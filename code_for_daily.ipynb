{
 "cells": [
  {
   "cell_type": "markdown",
   "metadata": {},
   "source": [
    "**周日——债市日历给债市日历对应的日期中填相应的地方债发行信息**\n",
    "\n",
    "从QB上导出发行结果的excel后，直接执行上述代码可以生成对应的每周地方债情况，输出格式为\n",
    "\n",
    "'2023/11/20 - 龙江一般债 178.8亿元、龙江专项债 146.5亿元',\n",
    "\n",
    "\n",
    " '2023/11/21 - 青海一般债 20.9亿元、湖北专项债 416.6亿元',\n",
    "\n",
    "\n",
    " '2023/11/23 - 新疆一般债 9.2亿元、新疆专项债 8.6亿元、重庆专项债 31.8亿元、天津专项债 294.7亿元、天津一般债 158.5亿元',\n",
    "\n",
    " \n",
    " '2023/11/24 - 贵州一般债 752.2亿元'\n",
    "\n",
    " 可能有的一些问题：1.一些发债的省市在债券简称里的名称和实际不符——如黑龙江就是龙江 2.可能有一些新的省份（深圳就是后来加上去的）"
   ]
  },
  {
   "cell_type": "code",
   "execution_count": 2,
   "metadata": {},
   "outputs": [
    {
     "name": "stderr",
     "output_type": "stream",
     "text": [
      "c:\\Users\\GUO\\hello\\.venv\\Lib\\site-packages\\openpyxl\\styles\\stylesheet.py:226: UserWarning: Workbook contains no default style, apply openpyxl's default\n",
      "  warn(\"Workbook contains no default style, apply openpyxl's default\")\n"
     ]
    },
    {
     "data": {
      "text/plain": [
       "['2024/01/17 - 河南专项债 246.8亿元', '2024/01/18 - 大连一般债 11.0亿元']"
      ]
     },
     "execution_count": 2,
     "metadata": {},
     "output_type": "execute_result"
    }
   ],
   "source": [
    "import pandas as pd\n",
    "from collections import defaultdict\n",
    "\n",
    "file_path = r\"C:\\Users\\GUO\\Desktop\\qeubee今日发行结果 2024-01-14.xlsx\"\n",
    "\n",
    "xls = pd.ExcelFile(file_path)\n",
    "\n",
    "local_bond_sheet_name = [name for name in xls.sheet_names if '地方债' in name]\n",
    "local_bond_data = pd.read_excel(xls, sheet_name=local_bond_sheet_name[0])\n",
    "\n",
    "local_bond_data['发行日'] = pd.to_datetime(local_bond_data['发行日'], errors='coerce')\n",
    "\n",
    "structured_bonds = defaultdict(lambda: {'morning': '', 'afternoon': ''})\n",
    "\n",
    "for _, row in local_bond_data.iterrows():\n",
    "    date = row['发行日'].strftime('%Y/%m/%d') if not pd.isnull(row['发行日']) else \"N/A\"\n",
    "    time_slot = 'morning' if '上午' in row['招标时间'] else 'afternoon'\n",
    "    bond_info = (f\" {row['债券简称']}  {row['类型']} \"\n",
    "                 f\"发行量: {row['发行量(亿)']}亿 \")\n",
    "    structured_bonds[date][time_slot] += bond_info + '; '\n",
    "\n",
    "provinces = [\n",
    "    \"北京\", \"天津\", \"河北\", \"山西\", \"内蒙古\", \"辽宁\", \"吉林\", \"龙江\",\n",
    "    \"上海\", \"江苏\", \"浙江\", \"安徽\", \"福建\", \"江西\", \"山东\", \"河南\",\n",
    "    \"湖北\", \"湖南\", \"广东\", \"广西\", \"海南\", \"重庆\", \"四川\", \"贵州\",\n",
    "    \"云南\", \"西藏\", \"陕西\", \"甘肃\", \"青海\", \"宁夏\", \"新疆\", \"深圳\",\n",
    "    \"大连\"\n",
    "]\n",
    "\n",
    "date_bond_summary = defaultdict(lambda: defaultdict(lambda: defaultdict(float)))  \n",
    "\n",
    "for _, row in local_bond_data.iterrows():\n",
    "    issue_date = row['发行日'].strftime('%Y/%m/%d') if not pd.isnull(row['发行日']) else \"N/A\"\n",
    "    bond_name = row['债券简称']\n",
    "    bond_type = row['类型']\n",
    "    bond_amount = row['发行量(亿)']\n",
    "\n",
    "    province = next((prov for prov in provinces if prov in bond_name), None)\n",
    "    if province:\n",
    "        date_bond_summary[issue_date][province][bond_type] += bond_amount\n",
    "\n",
    "formatted_date_summary = defaultdict(str)\n",
    "\n",
    "for date, provinces in date_bond_summary.items():\n",
    "    summary_items = []\n",
    "    for province, types in provinces.items():\n",
    "        for bond_type, total_amount in types.items():\n",
    "            if bond_type in [\"一般债券\", \"一般债\"]:\n",
    "                formatted_bond_type = \"一般债\"\n",
    "            elif bond_type in [\"项目专项\", \"普通专项\", \"专项债\"]:\n",
    "                formatted_bond_type = \"专项债\"\n",
    "            else:\n",
    "                formatted_bond_type = bond_type  \n",
    "\n",
    "            formatted_amount = round(total_amount, 1)\n",
    "            summary_items.append(f\"{province}{formatted_bond_type} {formatted_amount}亿元\")\n",
    "\n",
    "    formatted_date_summary[date] = '、'.join(summary_items)\n",
    "\n",
    "formatted_date_summary_list = [f\"{date} - {info}\" for date, info in formatted_date_summary.items()]\n",
    "\n",
    "formatted_date_summary_list"
   ]
  },
  {
   "cell_type": "markdown",
   "metadata": {},
   "source": [
    "**周一到周四撰写招投标报告中针对上一个交易日预测情况的评价**\n",
    "\n",
    "\n",
    "必须是某一种格式化好的输入（如prediction_text所示）才能运行。"
   ]
  },
  {
   "cell_type": "code",
   "execution_count": 34,
   "metadata": {},
   "outputs": [
    {
     "name": "stdout",
     "output_type": "stream",
     "text": [
      "周二国开债2期农发债1期国债3期招标结果尚可，其中3Y国开02中标利率符合我们预期,5Y国开08中标利率符合我们预期,10Y农发20中标利率高于我们预期,2Y附息国债27中标利率低于我们预期,6M贴现国债03中标利率低于我们预期,10Y附息国债26中标利率高于我们预期\n"
     ]
    },
    {
     "name": "stderr",
     "output_type": "stream",
     "text": [
      "c:\\Users\\GUO\\hello\\.venv\\Lib\\site-packages\\openpyxl\\styles\\stylesheet.py:226: UserWarning: Workbook contains no default style, apply openpyxl's default\n",
      "  warn(\"Workbook contains no default style, apply openpyxl's default\")\n"
     ]
    }
   ],
   "source": [
    "import pandas as pd\n",
    "import re\n",
    "import datetime\n",
    "\n",
    "today_date = datetime.datetime.now()\n",
    "days_in_chinese = [\"周一\", \"周二\", \"周三\", \"周四\", \"周五\", \"周六\", \"周日\"]\n",
    "day_of_week_chinese = days_in_chinese[today_date.weekday()]\n",
    "\n",
    "file_path =  r\"C:\\Users\\GUO\\Desktop\\qeubee今日发行结果 2024-01-14.xlsx\"\n",
    "sheet_name = '国债政金债'\n",
    "bond_data = pd.read_excel(file_path, sheet_name=sheet_name)\n",
    "\n",
    "#按照prediction_text给出的格式提取相应的信息\n",
    "def extract_bond_info_improved(prediction_text):\n",
    "    bond_names = re.findall(r\"(\\d+[YM]附息国债\\d+|\\d+[YM]贴现国债\\d+|\\d+[YM]国开\\d+|\\d+[YM]农发\\d+)\", prediction_text)\n",
    "    rate_ranges = re.findall(r\"(\\d+\\.\\d+)%-(\\d+\\.\\d+)%\", prediction_text)\n",
    "\n",
    "    if len(bond_names) != len(rate_ranges):\n",
    "        raise ValueError(\"The number of bond names and rate ranges do not match.\")\n",
    "\n",
    "    bond_keys = {}\n",
    "    modified_bond_names = {}\n",
    "    predictions = {}\n",
    "\n",
    "    for i, bond_name in enumerate(bond_names):\n",
    "        modified_bond_name = re.sub(r\"\\d+[YM]\", \"\", bond_name)\n",
    "        bond_keys[f\"Bond{i+1}\"] = bond_name\n",
    "        modified_bond_names[modified_bond_name] = f\"Bond{i+1}\"\n",
    "        predictions[modified_bond_name] = tuple(map(float, rate_ranges[i]))\n",
    "    return bond_keys, modified_bond_names, predictions\n",
    "\n",
    "prediction_text = \"我们预计 1 月 16日 3Y国开02、5Y国开08、10Y农发20、2Y附息国债27、6M贴现国债03、10Y附息国债26分别成交于2.28%-2.33%、2.39%-2.44%、2.28%-2.33%、2.39%-2.44%、2.28%-2.33%、2.39%-2.44%\"\n",
    "bond_keys_improved, modified_bond_names_improved, predictions_improved = extract_bond_info_improved(prediction_text)\n",
    "\n",
    "#生成“星期几+XX债+发行期数”这半句话\n",
    "bond_types_translation = {\"国开\": \"国开债\", \"农发\": \"农发债\", \"附息\": \"国债\", \"贴现\": \"国债\"}\n",
    "bond_types = [re.search(r\"(\\d+[YM])(附息|贴现|国开|农发)\", bond).groups() for bond in bond_keys_improved.values()]\n",
    "\n",
    "bond_counts = {}\n",
    "for bond in bond_types:\n",
    "    bond_type = bond_types_translation.get(bond[1], bond[1])\n",
    "    bond_counts[bond_type] = bond_counts.get(bond_type, 0) + 1\n",
    "\n",
    "formatted_bond_counts = [f\"{bond_type}{count}期\" for bond_type, count in bond_counts.items()]\n",
    "final_output = f\"{day_of_week_chinese}\" + ''.join(formatted_bond_counts)\n",
    "\n",
    "#对招标结果进行评价并细节分析，具体评价的输出格式为XX债中标利率怎么样（包含所有发行的利率债），这个判断的逻辑见memo\n",
    "def analyze_bond_issuance_with_weighted_rate(bond_data, modified_bond_names, predictions):\n",
    "    assessment = ''\n",
    "    detailed_assessment = []\n",
    "\n",
    "    for modified_key, value in predictions.items():\n",
    "        predicted_range = value\n",
    "        original_key = bond_keys_improved[modified_bond_names[modified_key]]\n",
    "        matching_bond = bond_data[bond_data['债券简称'].str.contains(modified_key)]\n",
    "        if not matching_bond.empty:\n",
    "            actual_weighted_rate = matching_bond['加权利率'].values[0]\n",
    "\n",
    "            if 0 < (predicted_range[0] - actual_weighted_rate) <= 0.01 or 0 < (actual_weighted_rate - predicted_range[1]) <= 0.01:\n",
    "                detailed_assessment.append(f\"{original_key}中标利率基本符合我们预期\")\n",
    "            elif actual_weighted_rate < predicted_range[0]:\n",
    "                detailed_assessment.append(f\"{original_key}中标利率低于我们预期\")\n",
    "            elif actual_weighted_rate > predicted_range[1]:\n",
    "                detailed_assessment.append(f\"{original_key}中标利率高于我们预期\")\n",
    "            else:\n",
    "                detailed_assessment.append(f\"{original_key}中标利率符合我们预期\")\n",
    "\n",
    "    if all(\"高于\" in d for d in detailed_assessment):\n",
    "        assessment = \"较差\"\n",
    "    elif all(\"低于\" in d for d in detailed_assessment):\n",
    "        assessment = \"较好\"\n",
    "    elif all(\"基本符合\" in d for d in detailed_assessment):\n",
    "        assessment = \"基本符合我们预期\"\n",
    "    else:\n",
    "        assessment = \"尚可\"\n",
    "\n",
    "    return assessment, detailed_assessment\n",
    "\n",
    "analysis_result_weighted = analyze_bond_issuance_with_weighted_rate(bond_data, modified_bond_names_improved, predictions_improved)\n",
    "assessment_str = analysis_result_weighted[0]\n",
    "detailed_assessment_str = ','.join(analysis_result_weighted[1])\n",
    "\n",
    "print(f\"{final_output}招标结果{assessment_str}，其中{detailed_assessment_str}\")\n"
   ]
  },
  {
   "cell_type": "markdown",
   "metadata": {},
   "source": [
    "**周五到期量模板**理论上需要wind换指标的顺序，但我们其实可以简单写个代码这样就不用再调了，可以一直用招投标的顺序"
   ]
  },
  {
   "cell_type": "code",
   "execution_count": 1,
   "metadata": {},
   "outputs": [],
   "source": [
    "import pandas as pd\n",
    "\n",
    "file_path = r\"C:\\Users\\GUO\\Desktop\\新发行债券.xlsx\"\n",
    "df = pd.read_excel(file_path)\n",
    "\n",
    "desired_columns = [\n",
    "    \"交易代码\", \"债券简称\", \"发行起始日\", \"缴款日\", \"计划发行规模(亿)\", \"发行规模(亿)\", \"发行期限(年)\", \"特殊期限\", \"债券评级\", \n",
    "    \"主体评级\", \"票面利率(%)\", \"增发债发行收益率(%)\", \"指导利率(%)\", \"指导利率利差(%)\", \"浮动利率(%)\", \"特殊条款\", \"增信方式\", \n",
    "    \"上市日期\", \"上市地点\", \"债券代码列表\", \"募集资金用途\", \"起息日\", \"到期日\", \"利率类型\", \"付息频率\", \"评级机构\", \"发行人简称\", \n",
    "    \"发行人全称\", \"发行人行业(二级)\", \"发行人企业性质\", \"发行人省份\", \"担保人\", \"发行时担保人评级\", \"担保人企业性质\", \"担保条款\", \n",
    "    \"公告日期\", \"发行截止日\", \"主承销商\", \"副主承销商\", \"簿记管理人\", \"发行方式\", \"承销方式\", \"发行价格\", \"招标标的\", \"招标方式\", \n",
    "    \"投标区间\", \"招标日\", \"中标价位\", \"中标区间\", \"认购倍数\", \"发行费率(%)\", \"承销团成员\", \"上网发行数量\", \"上网认购代码\", \n",
    "    \"Wind债券类型(二级)\", \"次级债或混合资本债\", \"是否发行失败\", \"是否城投债\", \"是否增发\", \"是否跨市场\", \"债券全称\"\n",
    "]\n",
    "\n",
    "for col in desired_columns:\n",
    "    if col not in df.columns:\n",
    "        df[col] = None  \n",
    "\n",
    "df = df[desired_columns]\n",
    "\n",
    "df.to_excel(r\"C:\\Users\\GUO\\Desktop\\新发行债券.xlsx\")\n"
   ]
  },
  {
   "cell_type": "markdown",
   "metadata": {},
   "source": [
    "**周五填EPFR的每周情况描述**\n",
    "\n",
    "需要把country_flow这个表**数值粘贴**到某个新excel里,这样就能输出EPFR的一长段话"
   ]
  },
  {
   "cell_type": "code",
   "execution_count": null,
   "metadata": {},
   "outputs": [
    {
     "name": "stdout",
     "output_type": "stream",
     "text": [
      "本周权益市场方面，发达国家呈现资金流入，新兴市场呈现资金流入。本周发达国家股票市场净流入38.02亿美元，新兴市场股票市场净流入38.10亿美元。美国股票市场净流入38.50亿美元，发达欧洲股票市场净流出2.43亿美元，日本股票市场净流入2.29亿美元，新兴亚洲股票市场净流入40.37亿美元，中国股票市场净流入31.59亿美元，中国香港股票市场净流出0.85亿美元，新兴欧洲股票市场净流出0.02亿美元，金砖四国股票市场净流入35.08亿美元，印度股票市场净流入4.16亿美元，巴西股票市场净流出0.64亿美元\n"
     ]
    }
   ],
   "source": [
    "import pandas as pd\n",
    "\n",
    "def generate_equity_market_summary_final(data, date):\n",
    "    def format_value(value):\n",
    "        return f\"净流入{value / 100:.2f}亿美元\" if value > 0 else f\"净流出{abs(value) / 100:.2f}亿美元\"\n",
    "\n",
    "    summary = f\"本周权益市场方面，\"\n",
    "    developed_market_trend = \"资金流入\" if data['发达国家'][date] > 0 else \"资金流出\"\n",
    "    emerging_market_trend = \"资金流入\" if data['新兴市场'][date] > 0 else \"资金流出\"\n",
    "    summary += f\"发达国家呈现{developed_market_trend}，新兴市场呈现{emerging_market_trend}。\"\n",
    "    summary += f\"本周发达国家股票市场{format_value(data['发达国家'][date])}，新兴市场股票市场{format_value(data['新兴市场'][date])}。\"\n",
    "\n",
    "    custom_order = [\"美国\", \"发达欧洲\", \"日本\", \"新兴亚洲\", \"中国\", \"中国香港\", \"新兴欧洲\", \"金砖四国\", \"印度\", \"巴西\"]\n",
    "    for category in custom_order:\n",
    "        if category in data:\n",
    "            summary += f\"{category}股票市场{format_value(data[category][date])}，\"\n",
    "\n",
    "    return summary.strip('，')\n",
    "\n",
    "file_path = r\"C:\\Users\\GUO\\Desktop\\新建 Microsoft Excel 工作表.xlsx\"\n",
    "\n",
    "df = pd.read_excel(file_path, sheet_name='Sheet1')\n",
    "\n",
    "converted_data = {\n",
    "    row['股票市场资金流向（mn USD）'].strip(): {\n",
    "        df.columns[i].strftime('%Y/%m/%d'): row[df.columns[i]] for i in range(1, len(df.columns))\n",
    "    } for index, row in df.iterrows()\n",
    "}\n",
    "\n",
    "date_for_summary = \"2024/01/03\"  # 根据需要更改日期\n",
    "market_summary = generate_equity_market_summary_final(converted_data, date_for_summary)\n",
    "print(market_summary)\n"
   ]
  },
  {
   "cell_type": "code",
   "execution_count": null,
   "metadata": {},
   "outputs": [
    {
     "name": "stdout",
     "output_type": "stream",
     "text": [
      "本周债券市场方面，发达国家呈现资金流入，新兴市场呈现资金流入。本周发达国家债券市场净流入99.23亿美元，新兴市场债券市场净流入5.86亿美元。美国债市净流入78.25亿美元，日本债市净流入1.30亿美元，发达欧洲债市净流入22.16亿美元，德国债市净流入3.16亿美元，新兴亚洲债市净流入7.09亿美元，中国债市净流入1.40亿美元，新兴欧洲债市净流出0.19亿美元，金砖四国债市净流入0.65亿美元\n"
     ]
    }
   ],
   "source": [
    "import pandas as pd\n",
    "\n",
    "def generate_bond_market_summary_final(data, date):\n",
    "    def format_value(value):\n",
    "        return f\"净流入{value / 100:.2f}亿美元\" if value > 0 else f\"净流出{abs(value) / 100:.2f}亿美元\"\n",
    "\n",
    "    summary = f\"本周债券市场方面，\"\n",
    "    developed_market_trend = \"资金流入\" if data['发达国家'][date] > 0 else \"资金流出\"\n",
    "    emerging_market_trend = \"资金流入\" if data['新兴市场'][date] > 0 else \"资金流出\"\n",
    "    summary += f\"发达国家呈现{developed_market_trend}，新兴市场呈现{emerging_market_trend}。\"\n",
    "    summary += f\"本周发达国家债券市场{format_value(data['发达国家'][date])}，新兴市场债券市场{format_value(data['新兴市场'][date])}。\"\n",
    "\n",
    "    custom_order = [\"美国\", \"日本\", \"发达欧洲\", \"德国\",\"新兴亚洲\", \"中国\", \"新兴欧洲\", \"金砖四国\"]\n",
    "    for category in custom_order:\n",
    "        if category in data:\n",
    "            summary += f\"{category}债市{format_value(data[category][date])}，\"\n",
    "    return summary.strip('，')\n",
    "\n",
    "file_path = r\"C:\\Users\\GUO\\Desktop\\新建 Microsoft Excel 工作表.xlsx\"\n",
    "\n",
    "df = pd.read_excel(file_path, sheet_name='Sheet2')\n",
    "\n",
    "converted_data = {\n",
    "    row['债券市场资金流向（mn USD）'].strip(): {\n",
    "        df.columns[i].strftime('%Y/%m/%d'): row[df.columns[i]] for i in range(1, len(df.columns))\n",
    "    } for index, row in df.iterrows()\n",
    "}\n",
    "\n",
    "date_for_summary = \"2024/01/03\"  # 根据需要更改日期\n",
    "market_summary = generate_bond_market_summary_final(converted_data, date_for_summary)\n",
    "print(market_summary)"
   ]
  }
 ],
 "metadata": {
  "kernelspec": {
   "display_name": ".venv",
   "language": "python",
   "name": "python3"
  },
  "language_info": {
   "codemirror_mode": {
    "name": "ipython",
    "version": 3
   },
   "file_extension": ".py",
   "mimetype": "text/x-python",
   "name": "python",
   "nbconvert_exporter": "python",
   "pygments_lexer": "ipython3",
   "version": "3.11.4"
  }
 },
 "nbformat": 4,
 "nbformat_minor": 2
}
